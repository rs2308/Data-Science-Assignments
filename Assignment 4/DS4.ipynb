{
 "cells": [
  {
   "cell_type": "code",
   "execution_count": 1,
   "id": "16c7cb43",
   "metadata": {},
   "outputs": [
    {
     "name": "stdout",
     "output_type": "stream",
     "text": [
      "[[0 0 0 0]\n",
      " [0 0 0 0]\n",
      " [0 0 0 0]\n",
      " [0 0 0 0]]\n"
     ]
    }
   ],
   "source": [
    "import numpy as np\n",
    "from scipy.sparse import csr_matrix\n",
    "  \n",
    "sparseMatrix = csr_matrix((4, 4), dtype = np.int8).toarray()  \n",
    "print(sparseMatrix)"
   ]
  },
  {
   "cell_type": "code",
   "execution_count": 5,
   "id": "8210b50f",
   "metadata": {},
   "outputs": [
    {
     "name": "stdout",
     "output_type": "stream",
     "text": [
      "[[ 1  4  0  0  0]\n",
      " [ 8  0 11  0  0]\n",
      " [ 0  0  9  0  0]\n",
      " [ 0  0  6  0  0]]\n"
     ]
    }
   ],
   "source": [
    "row = np.array([0, 0, 1, 1, 2, 1,3])\n",
    "col = np.array([0, 1, 2, 0, 2, 2,2])\n",
    "data = np.array([1, 4, 5, 8, 9, 6,6])\n",
    "  \n",
    "sparseMatrix = csr_matrix((data, (row, col)), shape = (4, 5)).toarray()    \n",
    "print(sparseMatrix)"
   ]
  },
  {
   "cell_type": "code",
   "execution_count": null,
   "id": "2c6d3330",
   "metadata": {},
   "outputs": [],
   "source": []
  }
 ],
 "metadata": {
  "kernelspec": {
   "display_name": "Python 3 (ipykernel)",
   "language": "python",
   "name": "python3"
  },
  "language_info": {
   "codemirror_mode": {
    "name": "ipython",
    "version": 3
   },
   "file_extension": ".py",
   "mimetype": "text/x-python",
   "name": "python",
   "nbconvert_exporter": "python",
   "pygments_lexer": "ipython3",
   "version": "3.9.7"
  }
 },
 "nbformat": 4,
 "nbformat_minor": 5
}
