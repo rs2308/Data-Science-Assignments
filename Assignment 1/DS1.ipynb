{
 "cells": [
  {
   "cell_type": "code",
   "execution_count": 1,
   "id": "7fdc2d8c",
   "metadata": {},
   "outputs": [],
   "source": [
    "from bs4 import BeautifulSoup"
   ]
  },
  {
   "cell_type": "code",
   "execution_count": 2,
   "id": "a463cc0c",
   "metadata": {},
   "outputs": [],
   "source": [
    "import re"
   ]
  },
  {
   "cell_type": "code",
   "execution_count": 32,
   "id": "f8eef0d2",
   "metadata": {},
   "outputs": [],
   "source": [
    "import pandas as pd"
   ]
  },
  {
   "cell_type": "code",
   "execution_count": 3,
   "id": "caf0e6fb",
   "metadata": {},
   "outputs": [],
   "source": [
    "import requests\n",
    "url = \"https://gadgets360.com/finance/crypto-currency-price-in-india-inr-compare-bitcoin-ether-dogecoin-ripple-litecoin\""
   ]
  },
  {
   "cell_type": "code",
   "execution_count": 4,
   "id": "1914b6bb",
   "metadata": {},
   "outputs": [],
   "source": [
    "page = requests.get(url)"
   ]
  },
  {
   "cell_type": "code",
   "execution_count": 5,
   "id": "28acfb7e",
   "metadata": {},
   "outputs": [],
   "source": [
    "soup = BeautifulSoup(page.text,'html.parser')"
   ]
  },
  {
   "cell_type": "code",
   "execution_count": 14,
   "id": "b180a821",
   "metadata": {},
   "outputs": [],
   "source": [
    "coinName=soup.find_all('div',attrs={'class':'_flx crynm'})\n",
    "prices=soup.find_all('td',attrs={'class': '_rft _cpr'})"
   ]
  },
  {
   "cell_type": "code",
   "execution_count": 21,
   "id": "c140bee0",
   "metadata": {},
   "outputs": [],
   "source": [
    "names=list()\n",
    "rate=list()\n",
    "for i in range(len(coinName)):\n",
    "    names.append(coinName[i].text)\n",
    "    rate.append(''.join(re.findall('[0-9]',prices[i].text)))"
   ]
  },
  {
   "cell_type": "code",
   "execution_count": 23,
   "id": "9424292c",
   "metadata": {},
   "outputs": [],
   "source": [
    "dict = {}"
   ]
  },
  {
   "cell_type": "code",
   "execution_count": 24,
   "id": "4cd19f21",
   "metadata": {},
   "outputs": [],
   "source": [
    "dict['Bitcoin']=names"
   ]
  },
  {
   "cell_type": "code",
   "execution_count": 25,
   "id": "c29e121a",
   "metadata": {},
   "outputs": [],
   "source": [
    "dict['Prices']=rate"
   ]
  },
  {
   "cell_type": "code",
   "execution_count": 29,
   "id": "3fe32376",
   "metadata": {},
   "outputs": [
    {
     "data": {
      "text/plain": [
       "{'Bitcoin': ['Bitcoin(BTC)',\n",
       "  'Ethereum(ETH)',\n",
       "  'Tether(USDT)',\n",
       "  'USD Coin(USDC)',\n",
       "  'Binance Coin(BNB)',\n",
       "  'Ripple(XRP)',\n",
       "  'Cardano(ADA)',\n",
       "  'Binance USD(BUSD)',\n",
       "  'Solana(SOL)',\n",
       "  'Dogecoin(DOGE)',\n",
       "  'Polkadot(DOT)',\n",
       "  'TRON(TRX)',\n",
       "  'Avalanche(AVAX)',\n",
       "  'Shiba Inu(SHIB)',\n",
       "  'Polygon(MATIC)',\n",
       "  'Litecoin(LTC)',\n",
       "  'Uniswap(UNI)',\n",
       "  'Monero(XMR)',\n",
       "  'Bitcoin Cash(BCH)',\n",
       "  'Stellar(XLM)',\n",
       "  'Chainlink(LINK)',\n",
       "  'Cosmos(ATOM)',\n",
       "  'Decentraland(MANA)',\n",
       "  'Elrond(EGLD)',\n",
       "  'Zcash(ZEC)',\n",
       "  'EOS Coin(EOS)',\n",
       "  'Bitcoin SV(BSV)',\n",
       "  'IOTA(MIOTA)',\n",
       "  'NEO Coin(NEO)',\n",
       "  'Dash(DASH)',\n",
       "  'Zilliqa(ZIL)',\n",
       "  'Terra(LUNA)',\n",
       "  'NEM(XEM)',\n",
       "  'Qtum(QTUM)',\n",
       "  'Baby Doge Coin(BABYDOGE)',\n",
       "  'Braintrust(BTRST)',\n",
       "  'SushiSwap(SUSHI)',\n",
       "  'Status(SNT)',\n",
       "  'Fetch.ai(FET)',\n",
       "  'Spell Token(SPELL)',\n",
       "  'Augur(REP)',\n",
       "  'DIA(DIA)',\n",
       "  'Gas(GAS)',\n",
       "  'Circuits of Value(COVAL)',\n",
       "  'DOGEFI(DOGEFI)',\n",
       "  'Bitcoin Hedge(BTCHG)',\n",
       "  'Underdog(DOG)',\n",
       "  'FLEX(FLEX)',\n",
       "  'Floki Inu(FLOKI)',\n",
       "  'Husky(HUSKY)',\n",
       "  'Nano Dogecoin(INDC)',\n",
       "  'Kishu Inu(KISHU)',\n",
       "  'Doge Killer(LEASH)',\n",
       "  'WETH(WETH)'],\n",
       " 'Prices': ['2461548',\n",
       "  '150293',\n",
       "  '8235',\n",
       "  '8246',\n",
       "  '25011',\n",
       "  '3247',\n",
       "  '4724',\n",
       "  '7760',\n",
       "  '32744',\n",
       "  '671',\n",
       "  '78058',\n",
       "  '681',\n",
       "  '194084',\n",
       "  '0000901',\n",
       "  '4951',\n",
       "  '521785',\n",
       "  '4292',\n",
       "  '15000',\n",
       "  '14368',\n",
       "  '1145',\n",
       "  '57285',\n",
       "  '77120',\n",
       "  '8090',\n",
       "  '630829',\n",
       "  '694813',\n",
       "  '10436',\n",
       "  '403959',\n",
       "  '265',\n",
       "  '93379',\n",
       "  '488232',\n",
       "  '414',\n",
       "  '0007506',\n",
       "  '422',\n",
       "  '29896',\n",
       "  '000000013',\n",
       "  '18545',\n",
       "  '13446',\n",
       "  '345',\n",
       "  '1268',\n",
       "  '0096775',\n",
       "  '78749',\n",
       "  '3516',\n",
       "  '23166',\n",
       "  '121',\n",
       "  '2172',\n",
       "  '2171',\n",
       "  '012',\n",
       "  '38695',\n",
       "  '0000007',\n",
       "  '000000065',\n",
       "  '000000005',\n",
       "  '000000004',\n",
       "  '34122',\n",
       "  '141723']}"
      ]
     },
     "execution_count": 29,
     "metadata": {},
     "output_type": "execute_result"
    }
   ],
   "source": [
    "dict"
   ]
  },
  {
   "cell_type": "code",
   "execution_count": 34,
   "id": "c7299365",
   "metadata": {},
   "outputs": [],
   "source": [
    "data = pd.DataFrame(dict,index=None)"
   ]
  },
  {
   "cell_type": "code",
   "execution_count": 39,
   "id": "6f0230f4",
   "metadata": {},
   "outputs": [],
   "source": [
    "data.to_excel(\"bitcoin prices.xlsx\",index=None)"
   ]
  },
  {
   "cell_type": "code",
   "execution_count": null,
   "id": "44b102d8",
   "metadata": {},
   "outputs": [],
   "source": []
  }
 ],
 "metadata": {
  "kernelspec": {
   "display_name": "Python 3 (ipykernel)",
   "language": "python",
   "name": "python3"
  },
  "language_info": {
   "codemirror_mode": {
    "name": "ipython",
    "version": 3
   },
   "file_extension": ".py",
   "mimetype": "text/x-python",
   "name": "python",
   "nbconvert_exporter": "python",
   "pygments_lexer": "ipython3",
   "version": "3.9.2"
  }
 },
 "nbformat": 4,
 "nbformat_minor": 5
}
